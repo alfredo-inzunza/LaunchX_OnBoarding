{
  "cells": [
    {
      "cell_type": "markdown",
      "metadata": {},
      "source": [
        "# Ejercicio - Escribir declaraciones `if`, `else`, y `elif`\n",
        "\n",
        "## Problema 1:  \n",
        "\n",
        "Para este ejercicio, escribirás una lógica condicional que imprima una advertencia si un asteroide se acerca a la Tierra demasiado rápido. La velocidad del asteroide varía dependiendo de lo cerca que esté del sol, y cualquier velocidad superior a 25 kilómetros por segundo (km/s) merece una advertencia.\n",
        "\n",
        "Un asteroide se acerca, y viaja a una velocidad de 49 km/s."
      ]
    },
    {
      "cell_type": "code",
      "execution_count": 1,
      "metadata": {},
      "outputs": [
        {
          "name": "stdout",
          "output_type": "stream",
          "text": [
            "Advertencia! Viene un asteroide muy rápido hacia la tierra.\n"
          ]
        }
      ],
      "source": [
        "velocidadAsteroide = 49 #km/s\n",
        "if velocidadAsteroide > 25:\n",
        "    print(\"Advertencia! Viene un asteroide muy rápido hacia la tierra.\")\n",
        "else:\n",
        "    print(\"No hay nada que reportar.\")"
      ]
    },
    {
      "cell_type": "markdown",
      "metadata": {},
      "source": [
        "## Problema 2:  \n",
        "\n",
        "Si un asteroide entra en la atmósfera de la Tierra a una velocidad mayor o igual a 20 km/s, a veces produce un rayo de luz que se puede ver desde la Tierra. Escribe la lógica condicional que usa declaraciones `if`, `else`, y `elif` para alertar a las personas de todo el mundo que deben buscar un asteroide en el cielo. ¡Hay uno que se dirige a la tierra ahora a una velocidad de 19 km/s!"
      ]
    },
    {
      "cell_type": "code",
      "execution_count": 4,
      "metadata": {},
      "outputs": [
        {
          "name": "stdout",
          "output_type": "stream",
          "text": [
            "No hay nada que reportar.\n"
          ]
        }
      ],
      "source": [
        "velocidadAsteroide = 19 #km/s\n",
        "if velocidadAsteroide > 20:\n",
        "    print(\"Alerta! Un asteroide está ingresando a la atmósfera, necesitamos localizar una luz en el cielo.\")\n",
        "elif velocidadAsteroide == 20:\n",
        "    print(\"Alerta! Un asteroide está ingresando a la atmósfera, necesitamos localizar una luz en el cielo.\")\n",
        "else:\n",
        "    print(\"No hay nada que reportar.\")"
      ]
    },
    {
      "cell_type": "markdown",
      "metadata": {},
      "source": [
        "# Ejercicio: Uso de operadores `and` y `or` \n",
        "\n",
        "## Problema 3:\n",
        "\n",
        "*Los asteroides de menos de 25 metros en su dimensión más grande probablemente se quemarán a medida que entren en la atmósfera de la Tierra.\n",
        "* Si una pieza de un asteroide que es más grande que 25 metros pero más pequeña que 1000 metros golpeara la Tierra, causaría mucho daño.\n",
        "\n",
        "También discutimos en el ejercicio anterior que:\n",
        "\n",
        "* La velocidad del asteroide varía en función de lo cerca que esté del sol, y cualquier velocidad superior a 25 kilómetros por segundo (km/s) merece una advertencia.\n",
        "* Si un asteroide entra en la atmósfera de la Tierra a una velocidad mayor o igual a 20 km/s, a veces produce un rayo de luz que se puede ver desde la Tierra.\n",
        "\n",
        "Usando toda esta información, escribe un programa que emita la advertencia o información correcta a la gente de la Tierra, según la velocidad y el tamaño de un asteroide. Utiliza instrucciones `if`, `else`, y `elif`, así como los operadores `and` y `or`."
      ]
    },
    {
      "cell_type": "code",
      "execution_count": 21,
      "metadata": {},
      "outputs": [
        {
          "name": "stdout",
          "output_type": "stream",
          "text": [
            "Alerta! Un asteroide está ingresando a la atmósfera, necesitamos localizar una luz en el cielo.\n"
          ]
        }
      ],
      "source": [
        "tamanoAsteroide = 45\n",
        "velocidadAsteroide = 22\n",
        "\n",
        "if tamanoAsteroide >= 1000:\n",
        "    print(\"Qué triste fue decirnos adios...\")\n",
        "elif tamanoAsteroide >= 25 and velocidadAsteroide > 25:\n",
        "    print(\"Alerta! Un asteriode viene muy rápido a la tierra\")\n",
        "elif velocidadAsteroide >= 20:\n",
        "    print(\"Alerta! Un asteroide está ingresando a la atmósfera, necesitamos localizar una luz en el cielo.\")\n",
        "elif tamanoAsteroide < 25:\n",
        "    print(\"Un asteroide está entrando a la atmosfera, no causará mayores daños debido a sus dimensiones.\")\n",
        "else: \n",
        "    print(\"No hay nada que reportar.\")"
      ]
    }
  ],
  "metadata": {
    "interpreter": {
      "hash": "916dbcbb3f70747c44a77c7bcd40155683ae19c65e1c03b4aa3499c5328201f1"
    },
    "kernel_info": {
      "name": "conda-env-py37_default-py"
    },
    "kernelspec": {
      "display_name": "py37_default",
      "language": "python",
      "name": "python3"
    },
    "language_info": {
      "codemirror_mode": {
        "name": "ipython",
        "version": 3
      },
      "file_extension": ".py",
      "mimetype": "text/x-python",
      "name": "python",
      "nbconvert_exporter": "python",
      "pygments_lexer": "ipython3",
      "version": "3.8.10"
    },
    "nteract": {
      "version": "nteract-front-end@1.0.0"
    },
    "orig_nbformat": 4
  },
  "nbformat": 4,
  "nbformat_minor": 2
}
