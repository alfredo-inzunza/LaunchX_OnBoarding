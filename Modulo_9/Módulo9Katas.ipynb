{
  "cells": [
    {
      "cell_type": "markdown",
      "metadata": {},
      "source": [
        "# Ejercicio: Uso de funciones en Python"
      ]
    },
    {
      "cell_type": "markdown",
      "metadata": {},
      "source": [
        "### Ejercicio 1: Trabajar con argumentos en funciones\n",
        "\n",
        "Los argumentos requeridos en las funciones se utilizan cuando las funciones necesitan que esos argumentos funcionen correctamente. En este ejercicio, construirás un informe de combustible que requiere información de varias ubicaciones de combustible en todo el cohete.\n",
        "\n"
      ]
    },
    {
      "cell_type": "markdown",
      "metadata": {},
      "source": [
        "> **TIP**\n",
        "> Dedica unos minutos para tratar de encontrar una solución. Luego desplázate hacia abajo hasta la parte inferior para ver si has logrado compilar el programa de acuerdo con las especificaciones\n",
        "\n",
        "Comienza por crear una función que necesite tres lecturas de combustible y devuelva un informe:"
      ]
    },
    {
      "cell_type": "code",
      "execution_count": 10,
      "metadata": {},
      "outputs": [],
      "source": [
        "def informe(*lecturas):\n",
        "    total = 0\n",
        "    valores = 0\n",
        "    for lectura in lecturas:\n",
        "        total += lectura\n",
        "        valores += 1\n",
        "    promedio = total / valores\n",
        "    informe = \"Se obtuvieron {valores} de lecturas de tanques con un promedio de {promedio} en cada tanque\"\n",
        "    return informe.format(valores = valores, promedio = promedio)\n",
        "# Función para leer 3 tanques de combustible y muestre el promedio\n"
      ]
    },
    {
      "cell_type": "markdown",
      "metadata": {},
      "source": [
        "Ahora que hemos definido la función de informes, vamos a comprobarlo. Para esta misión, los tanques no están llenos:"
      ]
    },
    {
      "cell_type": "code",
      "execution_count": 13,
      "metadata": {},
      "outputs": [
        {
          "name": "stdout",
          "output_type": "stream",
          "text": [
            "Se obtuvieron 3 de lecturas de tanques con un promedio de 77.0 en cada tanque\n"
          ]
        }
      ],
      "source": [
        "print(informe(70,78,83))\n",
        "# Llamamos a la función que genera el reporte print(funcion(tanque1, tanque2, tanque3))"
      ]
    },
    {
      "cell_type": "markdown",
      "metadata": {},
      "source": [
        "En lugar de simplemente crear el informe, la función también está calculando el promedio. Mejora la legibilidad extrayendo el cálculo promedio de la función en una nueva función para que el promedio se pueda hacer de forma independiente:"
      ]
    },
    {
      "cell_type": "code",
      "execution_count": 14,
      "metadata": {},
      "outputs": [],
      "source": [
        "def promedio(valores):\n",
        "    promedio = sum(valores) / len(valores)\n",
        "    return promedio\n",
        "# Función promedio "
      ]
    },
    {
      "cell_type": "markdown",
      "metadata": {},
      "source": [
        "Ahora actualiza la función de informes para llamando a la nueva función del promedio:\n"
      ]
    },
    {
      "cell_type": "code",
      "execution_count": 16,
      "metadata": {},
      "outputs": [
        {
          "name": "stdout",
          "output_type": "stream",
          "text": [
            "Se obtuvieron 3 de lecturas de tanques con un promedio de 63.333333333333336 en cada tanque\n"
          ]
        }
      ],
      "source": [
        "def informe(*lecturas):\n",
        "     return \"Se obtuvieron {valores} de lecturas de tanques con un promedio de {ave} en cada tanque\".format(valores = len(lecturas), ave = promedio(lecturas))\n",
        "# Actualiza la función\n",
        "print(informe(40,80,70))"
      ]
    },
    {
      "cell_type": "markdown",
      "metadata": {},
      "source": [
        "> Recuerda: Lo importante es intentarlo, puedes auxiliarte de internet, libros, etc. El objetivo de una kata es la comprobación de la comprensión de la lección y su aplicación inmediata a la resolución de problemas. Go for it!"
      ]
    },
    {
      "cell_type": "markdown",
      "metadata": {},
      "source": [
        "## Ejercicio 2: Trabajo con argumentos de palabra clave"
      ]
    },
    {
      "cell_type": "markdown",
      "metadata": {},
      "source": [
        "### Ejercicio : Trabajar con argumentos de palabras clave en funciones\n",
        "En este ejercicio, construirás un informe de cohete que requiere varias piezas de información, como el tiempo hasta el destino, el combustible a la izquierda y el nombre del destino. Comienza por crear una función que creará un informe preciso de la misión:"
      ]
    },
    {
      "cell_type": "code",
      "execution_count": 1,
      "metadata": {},
      "outputs": [
        {
          "name": "stdout",
          "output_type": "stream",
          "text": [
            "Hora de prelanzamiento: 18:00\n",
            "Tiempo de vuelo: 156\n",
            "Destino: Luna\n",
            "Tanque Externo: 180\n",
            "Tanque Interno: 150\n"
          ]
        }
      ],
      "source": [
        "def informeFull(horaPrelanzamiento, tiempoVuelo, destino, tanqueExterno, tanqueInterno):\n",
        "    return f\"Hora de prelanzamiento: {horaPrelanzamiento}\\nTiempo de vuelo: {tiempoVuelo}\\nDestino: {destino}\\nTanque Externo: {tanqueExterno}\\nTanque Interno: {tanqueInterno}\"\n",
        "print(informeFull(\"18:00\", 156, \"Luna\", 180, 150))\n",
        "# Función con un informe preciso de la misión. Considera hora de prelanzamiento, tiempo de vuelo, destino, tanque externo y tanque interno"
      ]
    },
    {
      "cell_type": "markdown",
      "metadata": {},
      "source": [
        "La función es problemática porque no se puede adaptar para minutos adicionales o tanques adicionales de combustible. Hazlo más flexible permitiendo cualquier número de pasos basados en el tiempo y cualquier número de tanques. En lugar de usar `*args` y `**kwargs`, aprovecha el hecho de que puedes usar cualquier nombre que desees. Asegurate que la función sea más legible mediante el uso de nombres de variables que están asociados con las entradas, como `*minutes` y `**fuel_reservoirs`:"
      ]
    },
    {
      "cell_type": "code",
      "execution_count": 4,
      "metadata": {},
      "outputs": [
        {
          "name": "stdout",
          "output_type": "stream",
          "text": [
            "Hora de prelanzamiento: 07:15\n",
            "Tiempo de vuelo: 82\n",
            "Destino: Luna\n",
            "Reserva de combustible: 18150\n"
          ]
        }
      ],
      "source": [
        "def informeFull(horaPrelanzamiento, destino, *tiempos, **reservaTanques):\n",
        "\n",
        "    return f\"Hora de prelanzamiento: {horaPrelanzamiento}\\nTiempo de vuelo: {sum(tiempos)}\\nDestino: {destino}\\nReserva de combustible: {sum(reservaTanques.values())}\"\n",
        "print(informeFull(\"07:15\", \"Luna\", 15,14,18,35, tanque_externo = 18000, tanque_interno = 150))\n",
        "# Escribe tu nueva función de reporte considerando lo anterior"
      ]
    },
    {
      "cell_type": "markdown",
      "metadata": {},
      "source": [
        "Debido a que el combustible que queda en los tanques es específico de cada tanque, actualiza la función para usar el nombre de cada tanque en el informe:"
      ]
    },
    {
      "cell_type": "code",
      "execution_count": 7,
      "metadata": {},
      "outputs": [
        {
          "name": "stdout",
          "output_type": "stream",
          "text": [
            "\n",
            "Hora de prelanzamiento: 10:37.\n",
            "Tiempo de vuelo: 277.\n",
            "Destino: Marte\n",
            "tanque_externo : 1700 galones.\n",
            "tanque_interno : 1532 galones.\n",
            "tanque_reserva : 2000 galones.\n",
            "\n"
          ]
        }
      ],
      "source": [
        "def informeFull(horaPrelanzamiento, destino, *tiempos, **reservaTanques):\n",
        "    tanques_str = \"\"\n",
        "    print(tanques_str)\n",
        "    for tanque, qty in reservaTanques.items():\n",
        "            tanques_str = tanques_str + tanque + \" : \" + str(qty) + \" galones.\\n\"\n",
        "    return f\"Hora de prelanzamiento: {horaPrelanzamiento}.\\nTiempo de vuelo: {sum(tiempos)}.\\nDestino: {destino}\\n{tanques_str}\"\n",
        "print(informeFull(\"10:37\", \"Marte\", 10,30,18,19,90,75,35, tanque_externo = 1700, tanque_interno = 1532, tanque_reserva = 2000))\n",
        "# Escribe tu nueva función"
      ]
    }
  ],
  "metadata": {
    "interpreter": {
      "hash": "205095b8b86ea82a021a8fc2ffba2b3bc9f8d0be25999901963b225939f75778"
    },
    "kernelspec": {
      "display_name": "Python 3.8.10 64-bit ('tmp': conda)",
      "name": "python3"
    },
    "language_info": {
      "codemirror_mode": {
        "name": "ipython",
        "version": 3
      },
      "file_extension": ".py",
      "mimetype": "text/x-python",
      "name": "python",
      "nbconvert_exporter": "python",
      "pygments_lexer": "ipython3",
      "version": "3.8.10"
    },
    "nteract": {
      "version": "nteract-front-end@1.0.0"
    },
    "orig_nbformat": 4
  },
  "nbformat": 4,
  "nbformat_minor": 2
}
